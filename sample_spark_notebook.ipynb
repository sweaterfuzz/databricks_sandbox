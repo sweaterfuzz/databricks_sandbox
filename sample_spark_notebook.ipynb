{
 "cells": [
  {
   "cell_type": "code",
   "execution_count": null,
   "metadata": {},
   "outputs": [],
   "source": [
    "from pyspark.sql import SparkSession\n",
    "\n",
    "from pyspark.sql.types import *\n",
    "from datetime import date\n",
    "\n",
    "spark = SparkSession.builder.appName(\"dbx-demo\").getOrCreate()"
   ]
  },
  {
   "cell_type": "code",
   "execution_count": null,
   "metadata": {},
   "outputs": [],
   "source": [
    "# Create a DataFrame consisting of high and low temperatures\n",
    "# by airport code and date.\n",
    "schema = StructType([\n",
    "   StructField('AirportCode', StringType(), False),\n",
    "   StructField('Date', DateType(), False),\n",
    "   StructField('TempHighF', IntegerType(), False),\n",
    "   StructField('TempLowF', IntegerType(), False)\n",
    "])\n",
    "\n",
    "data = [\n",
    "   [ 'BLI', date(2021, 4, 3), 52, 43],\n",
    "   [ 'BLI', date(2021, 4, 2), 50, 38],\n",
    "   [ 'BLI', date(2021, 4, 1), 52, 41],\n",
    "   [ 'PDX', date(2021, 4, 3), 64, 45],\n",
    "   [ 'PDX', date(2021, 4, 2), 61, 41],\n",
    "   [ 'PDX', date(2021, 4, 1), 66, 39],\n",
    "   [ 'SEA', date(2021, 4, 3), 57, 43],\n",
    "   [ 'SEA', date(2021, 4, 2), 54, 39],\n",
    "   [ 'SEA', date(2021, 4, 1), 56, 41]\n",
    "]\n",
    "\n",
    "temps = spark.createDataFrame(data, schema)"
   ]
  },
  {
   "cell_type": "code",
   "execution_count": null,
   "metadata": {},
   "outputs": [],
   "source": [
    "# Create a table on the cluster and then fill\n",
    "# the table with the DataFrame's contents.\n",
    "# If the table already exists from a previous run,\n",
    "# delete it first.\n",
    "spark.sql('USE default')\n",
    "spark.sql('DROP TABLE IF EXISTS demo_temps_table')\n",
    "temps.write.saveAsTable('demo_temps_table')\n"
   ]
  },
  {
   "cell_type": "code",
   "execution_count": null,
   "metadata": {},
   "outputs": [],
   "source": [
    "# Query the table on the cluster, returning rows\n",
    "# where the airport code is not BLI and the date is later\n",
    "# than 2021-04-01. Group the results and order by high\n",
    "# temperature in descending order.\n",
    "df_temps = spark.sql(\"SELECT * FROM demo_temps_table \" \\\n",
    "   \"WHERE AirportCode != 'BLI' AND Date > '2021-04-01' \" \\\n",
    "   \"GROUP BY AirportCode, Date, TempHighF, TempLowF \" \\\n",
    "   \"ORDER BY TempHighF DESC\")\n",
    "df_temps.show()\n",
    "\n",
    "# Results:\n",
    "#\n",
    "# +-----------+----------+---------+--------+\n",
    "# |AirportCode|      Date|TempHighF|TempLowF|\n",
    "# +-----------+----------+---------+--------+\n",
    "# |        PDX|2021-04-03|       64|      45|\n",
    "# |        PDX|2021-04-02|       61|      41|\n",
    "# |        SEA|2021-04-03|       57|      43|\n",
    "# |        SEA|2021-04-02|       54|      39|\n",
    "# +-----------+----------+---------+--------+\n",
    "\n",
    "# Clean up by deleting the table from the cluster.\n",
    "spark.sql('DROP TABLE demo_temps_table')"
   ]
  }
 ],
 "metadata": {
  "kernelspec": {
   "display_name": "Python 3.8.10 ('databricks_sandbox-RDp7C5dr')",
   "language": "python",
   "name": "python3"
  },
  "language_info": {
   "name": "python",
   "version": "3.8.10"
  },
  "orig_nbformat": 4,
  "vscode": {
   "interpreter": {
    "hash": "0c9b3b54ba7deb6c9047082ae8cbe180defd4542463f5258fd3fba9849e3a4a4"
   }
  }
 },
 "nbformat": 4,
 "nbformat_minor": 2
}
